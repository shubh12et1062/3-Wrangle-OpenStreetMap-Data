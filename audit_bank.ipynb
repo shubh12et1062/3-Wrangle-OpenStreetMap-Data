{
 "cells": [
  {
   "cell_type": "code",
   "execution_count": 5,
   "metadata": {
    "collapsed": true
   },
   "outputs": [],
   "source": [
    "import xml.etree.cElementTree as ET \n",
    "from collections import defaultdict\n",
    "import re\n",
    "import pprint\n"
   ]
  },
  {
   "cell_type": "code",
   "execution_count": 6,
   "metadata": {
    "collapsed": true
   },
   "outputs": [],
   "source": [
    "osmfile_sample = \"sample3.osm\"\n",
    "bank_type_re = re.compile(r'\\b\\S+\\.?$', re.IGNORECASE)\n",
    "expected = [\"Bank of India\",\"HDFC Bank\",\"Central Bank\",\"Bank Of Maharashtra\",\"Canara Bank\",\"Axis Bank\",\"ICICI Bank\"]\n",
    "\n",
    "mapping ={'hindusthan':'Hindustan',\n",
    "          'vijya bank':'Vijaya Bank',\n",
    "          'Union Bank':'Union Bank of India',\n",
    "          'StateBank':'State Bank of India',\n",
    "          'Union Bank':'Union Bank of India'\n",
    "         }\n",
    "            \n",
    "            \n",
    "            "
   ]
  },
  {
   "cell_type": "code",
   "execution_count": 9,
   "metadata": {},
   "outputs": [],
   "source": [
    "def audit_banks_type(bank_types, bank_name):\n",
    "    m = bank_type_re.search(bank_name)\n",
    "    if m:\n",
    "        bank_type = m.group()\n",
    "        if bank_type not in expected:\n",
    "            bank_types[bank_type].add(bank_name)\n",
    "\n",
    "\n",
    "def audit2(filename):\n",
    "\n",
    "    bank_types = defaultdict(set)\n",
    "    osm_file = open(filename, \"r\")\n",
    "    for event, elem in ET.iterparse(osmfile_sample, events=(\"start\",)):\n",
    "        if elem.tag == \"node\" or elem.tag == \"way\":\n",
    "            for tag in elem.iter(\"tag\"):\n",
    "                if (tag.get(\"k\")==\"amenity\") and (tag.get(\"v\")==\"bank\"):\n",
    "                    for tag in elem.iter(\"tag\"):\n",
    "                        if (tag.get(\"k\")==\"name\"):\n",
    "                            audit_banks_type(bank_types, tag.attrib['v'])\n",
    "                            tag.attrib[\"v\"]=update_name(tag.attrib[\"v\"], mapping) \n",
    "\n",
    "\n",
    "    return bank_types\n",
    "\n",
    "\n",
    "def update_name(name, mapping):\n",
    "    for bank_type in mapping:\n",
    "        if bank_type in name:\n",
    "            name = re.sub(r'\\b' + bank_type+ r'\\b\\.?', mapping[bank_type],name)\n",
    "    return name"
   ]
  },
  {
   "cell_type": "code",
   "execution_count": 10,
   "metadata": {},
   "outputs": [
    {
     "name": "stdout",
     "output_type": "stream",
     "text": [
      "{'Amro': set(['ABN Amro']),\n",
      " 'Bank': set(['American Express Bank',\n",
      "              'Axis Bank',\n",
      "              'Central Bank',\n",
      "              'Corporation Bank',\n",
      "              'HDFC Bank',\n",
      "              'ICICI Bank',\n",
      "              'Indian Bank',\n",
      "              'Kotak Mahindra Bank',\n",
      "              'Pen Urban Bank',\n",
      "              'Punjab National Bank',\n",
      "              'Saraswat Bank',\n",
      "              'Standard Chartered Bank',\n",
      "              'State Bank',\n",
      "              'Thane Bharat  Sahkari Bank',\n",
      "              'Union Bank']),\n",
      " 'Baroda': set(['Bank Of Baroda']),\n",
      " 'Citibank': set(['Citibank']),\n",
      " 'E)': set(['Karnataka Bank, Sion (E)']),\n",
      " 'Grindlays': set(['ANZ Grindlays']),\n",
      " 'India': set(['Bank of India', 'State Bank of India', 'Union Bank of India']),\n",
      " 'Maharashtra': set(['Bank Of Maharashtra', 'Bank of Maharashtra']),\n",
      " 'Mahindra': set(['Kotak Mahindra']),\n",
      " 'Office': set(['RBS Office']),\n",
      " 'bank': set(['vijya bank']),\n",
      " 'hindusthan': set(['hindusthan'])}\n"
     ]
    }
   ],
   "source": [
    "pprint.pprint(dict(audit2(osmfile_sample)))"
   ]
  },
  {
   "cell_type": "code",
   "execution_count": 12,
   "metadata": {},
   "outputs": [
    {
     "name": "stdout",
     "output_type": "stream",
     "text": [
      "ABN Amro => ABN Amro\n",
      "Karnataka Bank, Sion (E) => Karnataka Bank, Sion (E)\n",
      "RBS Office => RBS Office\n",
      "Citibank => Citibank\n",
      "State Bank of India => State Bank Of India\n",
      "Union Bank of India => Union Bank Of India\n",
      "Bank of India => Bank Of India\n",
      "ANZ Grindlays => ANZ Grindlays\n",
      "hindusthan => Hindustan\n",
      "Kotak Mahindra => Kotak Mahindra\n",
      "Bank Of Baroda => Bank Of Baroda\n",
      "Bank Of Maharashtra => Bank Of Maharashtra\n",
      "Bank of Maharashtra => Bank Of Maharashtra\n",
      "vijya bank => Vijya Bank\n",
      "Pen Urban Bank => Pen Urban Bank\n",
      "Union Bank => Union Bank\n",
      "Corporation Bank => Corporation Bank\n",
      "American Express Bank => American Express Bank\n",
      "Axis Bank => Axis Bank\n",
      "HDFC Bank => HDFC Bank\n",
      "Saraswat Bank => Saraswat Bank\n",
      "Indian Bank => Indian Bank\n",
      "Thane Bharat  Sahkari Bank => Thane Bharat  Sahkari Bank\n",
      "ICICI Bank => ICICI Bank\n",
      "State Bank => State Bank\n",
      "Standard Chartered Bank => Standard Chartered Bank\n",
      "Central Bank => Central Bank\n",
      "Kotak Mahindra Bank => Kotak Mahindra Bank\n",
      "Punjab National Bank => Punjab National Bank\n"
     ]
    }
   ],
   "source": [
    "def string_case(s): # change string into titleCase except for UpperCase\n",
    "    if s.isupper():\n",
    "        return s\n",
    "    else:\n",
    "        return s.title()\n",
    "\n",
    "# return the updated names\n",
    "def update_name(name, mapping):\n",
    "    name = name.split(' ')\n",
    "    for i in range(len(name)):\n",
    "        if name[i] in mapping:\n",
    "            name[i] = mapping[name[i]]\n",
    "            name[i] = string_case(name[i])\n",
    "        else:\n",
    "            name[i] = string_case(name[i])\n",
    "    \n",
    "    name = ' '.join(name)\n",
    "   \n",
    "\n",
    "    return name\n",
    "\n",
    "update_street = audit2(osmfile_sample) \n",
    "\n",
    "# print the updated names\n",
    "for street_type, ways in update_street.iteritems():\n",
    "    for name in ways:\n",
    "        better_name = update_name(name, mapping)\n",
    "        print name, \"=>\", better_name  "
   ]
  },
  {
   "cell_type": "code",
   "execution_count": null,
   "metadata": {
    "collapsed": true
   },
   "outputs": [],
   "source": []
  }
 ],
 "metadata": {
  "kernelspec": {
   "display_name": "Python [default]",
   "language": "python",
   "name": "python2"
  },
  "language_info": {
   "codemirror_mode": {
    "name": "ipython",
    "version": 2
   },
   "file_extension": ".py",
   "mimetype": "text/x-python",
   "name": "python",
   "nbconvert_exporter": "python",
   "pygments_lexer": "ipython2",
   "version": "2.7.13"
  }
 },
 "nbformat": 4,
 "nbformat_minor": 2
}
